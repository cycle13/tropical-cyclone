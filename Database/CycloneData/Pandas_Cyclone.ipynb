{
 "cells": [
  {
   "cell_type": "code",
   "execution_count": 19,
   "metadata": {
    "collapsed": true
   },
   "outputs": [],
   "source": [
    "import os\n",
    "import pandas as pd\n",
    "from pandas import DataFrame, Series"
   ]
  },
  {
   "cell_type": "code",
   "execution_count": 23,
   "metadata": {
    "collapsed": false
   },
   "outputs": [],
   "source": [
    "os.chdir('../2015')"
   ]
  },
  {
   "cell_type": "code",
   "execution_count": 24,
   "metadata": {
    "collapsed": false
   },
   "outputs": [
    {
     "name": "stdout",
     "output_type": "stream",
     "text": [
      "bcp012015.dat  bwp062015.dat  bwp132015.dat  bwp202015.dat  bwp272015.dat\r\n",
      "bcp032015.dat  bwp072015.dat  bwp142015.dat  bwp212015.dat  bwp282015.dat\r\n",
      "bwp012015.dat  bwp082015.dat  bwp152015.dat  bwp222015.dat  bwp292015.dat\r\n",
      "bwp022015.dat  bwp092015.dat  bwp162015.dat  bwp232015.dat\r\n",
      "bwp032015.dat  bwp102015.dat  bwp172015.dat  bwp242015.dat\r\n",
      "bwp042015.dat  bwp112015.dat  bwp182015.dat  bwp252015.dat\r\n",
      "bwp052015.dat  bwp122015.dat  bwp192015.dat  bwp262015.dat\r\n"
     ]
    }
   ],
   "source": [
    "ls"
   ]
  },
  {
   "cell_type": "code",
   "execution_count": 35,
   "metadata": {
    "collapsed": false
   },
   "outputs": [],
   "source": [
    "# State the columns' headers\n",
    "data_columns = ['BASIN','CY','YYYYMMDDHH','TECHNUM','TECH','TAU','LatN/S','LonE/W','VMAX','MSLP',\n",
    "'TY','RAD','WINDCODE','RAD1','RAD2','RAD3','RAD4','RADP','RRP,MRD','GUSTS','EYE',\n",
    "'SUBREGION','MAXSEAS','INITIALS,DIR','SPEED','STORMNAME','DEPTH','SEAS',\n",
    "'SEASCODE','SEAS1','SEAS2','SEAS3','SEAS4']\n",
    "\n",
    "# Load the cyclone track data\n",
    "cyclone_track = pd.read_csv('bwp012015.dat',names=data_columns,nrows=5)"
   ]
  },
  {
   "cell_type": "code",
   "execution_count": 36,
   "metadata": {
    "collapsed": false
   },
   "outputs": [
    {
     "data": {
      "text/html": [
       "<div>\n",
       "<table border=\"1\" class=\"dataframe\">\n",
       "  <thead>\n",
       "    <tr style=\"text-align: right;\">\n",
       "      <th></th>\n",
       "      <th>BASIN</th>\n",
       "      <th>CY</th>\n",
       "      <th>YYYYMMDDHH</th>\n",
       "      <th>TECHNUM</th>\n",
       "      <th>TECH</th>\n",
       "      <th>TAU</th>\n",
       "      <th>LatN/S</th>\n",
       "      <th>LonE/W</th>\n",
       "      <th>VMAX</th>\n",
       "      <th>MSLP</th>\n",
       "      <th>...</th>\n",
       "      <th>INITIALS,DIR</th>\n",
       "      <th>SPEED</th>\n",
       "      <th>STORMNAME</th>\n",
       "      <th>DEPTH</th>\n",
       "      <th>SEAS</th>\n",
       "      <th>SEASCODE</th>\n",
       "      <th>SEAS1</th>\n",
       "      <th>SEAS2</th>\n",
       "      <th>SEAS3</th>\n",
       "      <th>SEAS4</th>\n",
       "    </tr>\n",
       "  </thead>\n",
       "  <tbody>\n",
       "    <tr>\n",
       "      <th>0</th>\n",
       "      <td>WP</td>\n",
       "      <td>1</td>\n",
       "      <td>2015011206</td>\n",
       "      <td></td>\n",
       "      <td>BEST</td>\n",
       "      <td>0</td>\n",
       "      <td>86N</td>\n",
       "      <td>1459E</td>\n",
       "      <td>15</td>\n",
       "      <td>1010</td>\n",
       "      <td>...</td>\n",
       "      <td>0</td>\n",
       "      <td></td>\n",
       "      <td>0</td>\n",
       "      <td>0</td>\n",
       "      <td>INVEST</td>\n",
       "      <td>S</td>\n",
       "      <td></td>\n",
       "      <td>NaN</td>\n",
       "      <td>NaN</td>\n",
       "      <td>NaN</td>\n",
       "    </tr>\n",
       "    <tr>\n",
       "      <th>1</th>\n",
       "      <td>WP</td>\n",
       "      <td>1</td>\n",
       "      <td>2015011212</td>\n",
       "      <td></td>\n",
       "      <td>BEST</td>\n",
       "      <td>0</td>\n",
       "      <td>87N</td>\n",
       "      <td>1447E</td>\n",
       "      <td>20</td>\n",
       "      <td>1003</td>\n",
       "      <td>...</td>\n",
       "      <td>0</td>\n",
       "      <td></td>\n",
       "      <td>0</td>\n",
       "      <td>0</td>\n",
       "      <td>INVEST</td>\n",
       "      <td>S</td>\n",
       "      <td></td>\n",
       "      <td>NaN</td>\n",
       "      <td>NaN</td>\n",
       "      <td>NaN</td>\n",
       "    </tr>\n",
       "    <tr>\n",
       "      <th>2</th>\n",
       "      <td>WP</td>\n",
       "      <td>1</td>\n",
       "      <td>2015011218</td>\n",
       "      <td></td>\n",
       "      <td>BEST</td>\n",
       "      <td>0</td>\n",
       "      <td>88N</td>\n",
       "      <td>1436E</td>\n",
       "      <td>20</td>\n",
       "      <td>1004</td>\n",
       "      <td>...</td>\n",
       "      <td>0</td>\n",
       "      <td></td>\n",
       "      <td>0</td>\n",
       "      <td>0</td>\n",
       "      <td>INVEST</td>\n",
       "      <td>S</td>\n",
       "      <td></td>\n",
       "      <td>NaN</td>\n",
       "      <td>NaN</td>\n",
       "      <td>NaN</td>\n",
       "    </tr>\n",
       "    <tr>\n",
       "      <th>3</th>\n",
       "      <td>WP</td>\n",
       "      <td>1</td>\n",
       "      <td>2015011300</td>\n",
       "      <td></td>\n",
       "      <td>BEST</td>\n",
       "      <td>0</td>\n",
       "      <td>87N</td>\n",
       "      <td>1429E</td>\n",
       "      <td>20</td>\n",
       "      <td>1002</td>\n",
       "      <td>...</td>\n",
       "      <td>0</td>\n",
       "      <td></td>\n",
       "      <td>0</td>\n",
       "      <td>0</td>\n",
       "      <td>INVEST</td>\n",
       "      <td>M</td>\n",
       "      <td></td>\n",
       "      <td>NaN</td>\n",
       "      <td>NaN</td>\n",
       "      <td>NaN</td>\n",
       "    </tr>\n",
       "    <tr>\n",
       "      <th>4</th>\n",
       "      <td>WP</td>\n",
       "      <td>1</td>\n",
       "      <td>2015011306</td>\n",
       "      <td></td>\n",
       "      <td>BEST</td>\n",
       "      <td>0</td>\n",
       "      <td>85N</td>\n",
       "      <td>1425E</td>\n",
       "      <td>20</td>\n",
       "      <td>1007</td>\n",
       "      <td>...</td>\n",
       "      <td>0</td>\n",
       "      <td></td>\n",
       "      <td>0</td>\n",
       "      <td>0</td>\n",
       "      <td>INVEST</td>\n",
       "      <td>M</td>\n",
       "      <td></td>\n",
       "      <td>NaN</td>\n",
       "      <td>NaN</td>\n",
       "      <td>NaN</td>\n",
       "    </tr>\n",
       "  </tbody>\n",
       "</table>\n",
       "<p>5 rows × 33 columns</p>\n",
       "</div>"
      ],
      "text/plain": [
       "  BASIN  CY  YYYYMMDDHH TECHNUM   TECH  TAU LatN/S  LonE/W  VMAX  MSLP  ...    \\\n",
       "0    WP   1  2015011206           BEST    0    86N   1459E    15  1010  ...     \n",
       "1    WP   1  2015011212           BEST    0    87N   1447E    20  1003  ...     \n",
       "2    WP   1  2015011218           BEST    0    88N   1436E    20  1004  ...     \n",
       "3    WP   1  2015011300           BEST    0    87N   1429E    20  1002  ...     \n",
       "4    WP   1  2015011306           BEST    0    85N   1425E    20  1007  ...     \n",
       "\n",
       "  INITIALS,DIR  SPEED STORMNAME  DEPTH         SEAS  SEASCODE  SEAS1  SEAS2  \\\n",
       "0            0                0      0       INVEST         S           NaN   \n",
       "1            0                0      0       INVEST         S           NaN   \n",
       "2            0                0      0       INVEST         S           NaN   \n",
       "3            0                0      0       INVEST         M           NaN   \n",
       "4            0                0      0       INVEST         M           NaN   \n",
       "\n",
       "   SEAS3  SEAS4  \n",
       "0    NaN    NaN  \n",
       "1    NaN    NaN  \n",
       "2    NaN    NaN  \n",
       "3    NaN    NaN  \n",
       "4    NaN    NaN  \n",
       "\n",
       "[5 rows x 33 columns]"
      ]
     },
     "execution_count": 36,
     "metadata": {},
     "output_type": "execute_result"
    }
   ],
   "source": [
    "cyclone_track"
   ]
  },
  {
   "cell_type": "code",
   "execution_count": 40,
   "metadata": {
    "collapsed": false
   },
   "outputs": [
    {
     "data": {
      "text/plain": [
       "'  86N'"
      ]
     },
     "execution_count": 40,
     "metadata": {},
     "output_type": "execute_result"
    }
   ],
   "source": [
    "cyclone_track['LatN/S'][0]"
   ]
  },
  {
   "cell_type": "code",
   "execution_count": null,
   "metadata": {
    "collapsed": true
   },
   "outputs": [],
   "source": []
  }
 ],
 "metadata": {
  "kernelspec": {
   "display_name": "Python 2",
   "language": "python",
   "name": "python2"
  },
  "language_info": {
   "codemirror_mode": {
    "name": "ipython",
    "version": 2
   },
   "file_extension": ".py",
   "mimetype": "text/x-python",
   "name": "python",
   "nbconvert_exporter": "python",
   "pygments_lexer": "ipython2",
   "version": "2.7.12"
  }
 },
 "nbformat": 4,
 "nbformat_minor": 1
}
